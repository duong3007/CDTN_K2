{
 "cells": [
  {
   "cell_type": "code",
   "execution_count": 1,
   "id": "2e1d1a99",
   "metadata": {},
   "outputs": [],
   "source": [
    "import os\n",
    "import torch\n",
    "import numpy as np\n",
    "import pandas as pd\n",
    "\n",
    "from torch import nn\n",
    "import torch.utils.data as data\n",
    "import torch.optim as optim\n",
    "\n",
    "from sklearn.preprocessing import StandardScaler\n",
    "from sklearn.preprocessing import MinMaxScaler\n",
    "from sklearn.model_selection import train_test_split\n",
    "\n",
    "from keras.models import Sequential\n",
    "from keras.layers import LSTM, Dense, Dropout\n",
    "from keras.layers import BatchNormalization,Reshape"
   ]
  },
  {
   "cell_type": "code",
   "execution_count": 2,
   "id": "21b88641",
   "metadata": {},
   "outputs": [],
   "source": [
    "file_path = \"Malware_Detection_data.csv\"\n",
    "df= pd.read_csv(file_path, delimiter='|')"
   ]
  },
  {
   "cell_type": "code",
   "execution_count": 3,
   "id": "91ad6952",
   "metadata": {},
   "outputs": [],
   "source": [
    "df.drop(columns=['Name'], inplace=True)\n",
    "df.drop(columns=['md5'], inplace=True)"
   ]
  },
  {
   "cell_type": "code",
   "execution_count": 19,
   "id": "b7a422a2",
   "metadata": {},
   "outputs": [],
   "source": [
    "#cnn-svm-lstm-RNN-randomforest- disicion tree"
   ]
  },
  {
   "cell_type": "code",
   "execution_count": 4,
   "id": "e27f855b",
   "metadata": {},
   "outputs": [],
   "source": [
    "X = df.iloc[:, :-1].values  # Extract features (all columns except the last one)\n",
    "y = df.iloc[:, -1].values   # Extract labels (last column)\n",
    "# Split the data into training and testing sets\n"
   ]
  },
  {
   "cell_type": "code",
   "execution_count": 5,
   "id": "c8915c98",
   "metadata": {},
   "outputs": [],
   "source": [
    "# Chuẩn hóa dữ liệu\n",
    "scaler = StandardScaler()\n",
    "X = scaler.fit_transform(X)\n",
    "\n",
    "# Chia dữ liệu thành tập huấn luyện và tập kiểm tra\n",
    "X_train, X_test, y_train, y_test = train_test_split(X, y, test_size=0.2, random_state=42)\n"
   ]
  },
  {
   "cell_type": "code",
   "execution_count": 6,
   "id": "2fc774ee",
   "metadata": {},
   "outputs": [],
   "source": [
    "# Chuyển đổi dữ liệu thành dạng phù hợp cho LSTM\n",
    "X_train = X_train.reshape((X_train.shape[0], X_train.shape[1], 1))\n",
    "X_test = X_test.reshape((X_test.shape[0], X_test.shape[1], 1))"
   ]
  },
  {
   "cell_type": "code",
   "execution_count": null,
   "id": "daa42277",
   "metadata": {},
   "outputs": [],
   "source": [
    "#X_train, X_test, y_train, y_test = train_test_split(X, y, test_size=0.2, random_state=42)"
   ]
  },
  {
   "cell_type": "code",
   "execution_count": 5,
   "id": "2d8c3d55",
   "metadata": {},
   "outputs": [],
   "source": [
    "#scaler = StandardScaler()\n",
    "#X_train = scaler.fit_transform(X_train)\n",
    "#X_test = scaler.transform(X_test)\n",
    "\n",
    "\n",
    "# Chuyển đổi dữ liệu thành dạng phù hợp cho LSTM\n",
    "#X_train = X_train.reshape((X_train.shape[0], X_train.shape[1], 1))\n",
    "#X_test = X_test.reshape((X_test.shape[0], X_test.shape[1], 1))"
   ]
  },
  {
   "cell_type": "code",
   "execution_count": 13,
   "id": "e787ed2a",
   "metadata": {},
   "outputs": [],
   "source": [
    "LSTM_model = Sequential()\n",
    "LSTM_model.add(LSTM(50, activation='relu', return_sequences=True,input_shape=(X_train.shape[1], 1)))\n",
    "LSTM_model.add(Dropout(0.2))\n",
    "LSTM_model.add(LSTM(units=50, return_sequences=True))\n",
    "LSTM_model.add(Dropout(0.2))\n",
    "\n",
    "LSTM_model.add(LSTM(units=50, return_sequences=True))\n",
    "LSTM_model.add(Dropout(0.2))\n",
    "\n",
    "LSTM_model.add(LSTM(units=50))\n",
    "LSTM_model.add(Dropout(0.2))\n",
    "LSTM_model.add(Dense(1, activation='sigmoid'))\n",
    "\n",
    "LSTM_model.compile(optimizer='adam', loss='binary_crossentropy', metrics=['accuracy'])"
   ]
  },
  {
   "cell_type": "code",
   "execution_count": 14,
   "id": "63350998",
   "metadata": {},
   "outputs": [
    {
     "name": "stdout",
     "output_type": "stream",
     "text": [
      "Epoch 1/10\n",
      "1726/1726 [==============================] - 128s 71ms/step - loss: 0.1082 - accuracy: 0.9642\n",
      "Epoch 2/10\n",
      "1726/1726 [==============================] - 135s 78ms/step - loss: 0.0731 - accuracy: 0.9776\n",
      "Epoch 3/10\n",
      "1726/1726 [==============================] - 141s 82ms/step - loss: 0.0608 - accuracy: 0.9810\n",
      "Epoch 4/10\n",
      "1726/1726 [==============================] - 142s 82ms/step - loss: 0.0542 - accuracy: 0.9829\n",
      "Epoch 5/10\n",
      "1726/1726 [==============================] - 141s 82ms/step - loss: 0.0509 - accuracy: 0.9838\n",
      "Epoch 6/10\n",
      "1726/1726 [==============================] - 134s 78ms/step - loss: 0.0479 - accuracy: 0.9846\n",
      "Epoch 7/10\n",
      "1726/1726 [==============================] - 137s 79ms/step - loss: 0.0479 - accuracy: 0.9845\n",
      "Epoch 8/10\n",
      "1726/1726 [==============================] - 139s 81ms/step - loss: 0.0440 - accuracy: 0.9857\n",
      "Epoch 9/10\n",
      "1726/1726 [==============================] - 137s 79ms/step - loss: 0.0424 - accuracy: 0.9861\n",
      "Epoch 10/10\n",
      "1726/1726 [==============================] - 142s 82ms/step - loss: 0.0415 - accuracy: 0.9861\n"
     ]
    },
    {
     "data": {
      "text/plain": [
       "<keras.callbacks.History at 0x26ebcf84310>"
      ]
     },
     "execution_count": 14,
     "metadata": {},
     "output_type": "execute_result"
    }
   ],
   "source": [
    "LSTM_model.fit(X_train, y_train, epochs=10,batch_size=64)"
   ]
  },
  {
   "cell_type": "code",
   "execution_count": 15,
   "id": "2ce65529",
   "metadata": {},
   "outputs": [
    {
     "name": "stdout",
     "output_type": "stream",
     "text": [
      "863/863 [==============================] - 14s 16ms/step - loss: 0.0405 - accuracy: 0.9868\n",
      "Test Accuracy: 98.68%\n"
     ]
    }
   ],
   "source": [
    "loss, accuracy = LSTM_model.evaluate(X_test, y_test)\n",
    "print(f'Test Accuracy: {accuracy*100:.2f}%')"
   ]
  },
  {
   "cell_type": "markdown",
   "id": "683707c3",
   "metadata": {},
   "source": [
    "Database-PCA"
   ]
  },
  {
   "cell_type": "code",
   "execution_count": 16,
   "id": "fa7979f7",
   "metadata": {},
   "outputs": [],
   "source": [
    "from sklearn.decomposition import PCA"
   ]
  },
  {
   "cell_type": "code",
   "execution_count": 17,
   "id": "d04c7836",
   "metadata": {},
   "outputs": [],
   "source": [
    "pca = PCA(n_components=0.95)"
   ]
  },
  {
   "cell_type": "code",
   "execution_count": 11,
   "id": "b01cdaa3",
   "metadata": {},
   "outputs": [],
   "source": [
    "X = df.iloc[:, :-1].values  # Extract features (all columns except the last one)\n",
    "y = df.iloc[:, -1].values   # Extract labels (last column)"
   ]
  },
  {
   "cell_type": "code",
   "execution_count": 12,
   "id": "8beeb729",
   "metadata": {},
   "outputs": [],
   "source": [
    "# Huấn luyện PCA trên dữ liệu đặc trưng\n",
    "X_transformed = pca.fit_transform(X)"
   ]
  },
  {
   "cell_type": "code",
   "execution_count": 98,
   "id": "70406c1f",
   "metadata": {},
   "outputs": [],
   "source": [
    "# Ghi dữ liệu đặc trưng sau biến đổi PCA vào tệp CSV mới\n",
    "df_transformed = pd.DataFrame(X_transformed)\n",
    "df_transformed.to_csv('data_transformed.csv', index=False)"
   ]
  },
  {
   "cell_type": "code",
   "execution_count": 99,
   "id": "6436bcb2",
   "metadata": {},
   "outputs": [],
   "source": [
    "# Lấy các đặc trưng bị bỏ đi\n",
    "dropped_features = X[pca.n_components_:]"
   ]
  },
  {
   "cell_type": "code",
   "execution_count": 14,
   "id": "c3f7a8a5",
   "metadata": {},
   "outputs": [],
   "source": [
    "X_train_pca, X_test_pca, y_train, y_test = train_test_split(X_transformed, y, test_size=0.2, random_state=42)"
   ]
  },
  {
   "cell_type": "code",
   "execution_count": 15,
   "id": "8c61a448",
   "metadata": {},
   "outputs": [],
   "source": [
    "scaler = StandardScaler()\n",
    "X_train_pca = scaler.fit_transform(X_train_pca)\n",
    "X_test_pca = scaler.transform(X_test_pca)\n",
    "\n",
    "\n",
    "# Chuyển đổi dữ liệu thành dạng phù hợp cho LSTM\n",
    "X_train_pca = X_train_pca.reshape((X_train_pca.shape[0], X_train_pca.shape[1], 1))\n",
    "X_test_pca = X_test_pca.reshape((X_test_pca.shape[0], X_test_pca.shape[1], 1))"
   ]
  },
  {
   "cell_type": "code",
   "execution_count": 16,
   "id": "18d22dd8",
   "metadata": {},
   "outputs": [],
   "source": [
    "LSTM_model = Sequential()\n",
    "LSTM_model.add(LSTM(50, activation='relu', return_sequences=True,input_shape=(X_train_pca.shape[1], 1)))\n",
    "LSTM_model.add(Dropout(0.2))\n",
    "LSTM_model.add(LSTM(units=50, return_sequences=True))\n",
    "LSTM_model.add(Dropout(0.2))\n",
    "\n",
    "LSTM_model.add(LSTM(units=50, return_sequences=True))\n",
    "LSTM_model.add(Dropout(0.2))\n",
    "\n",
    "LSTM_model.add(LSTM(units=50))\n",
    "LSTM_model.add(Dropout(0.2))\n",
    "LSTM_model.add(Dense(1, activation='sigmoid'))\n",
    "\n",
    "LSTM_model.compile(optimizer='adam', loss='binary_crossentropy', metrics=['accuracy'])"
   ]
  },
  {
   "cell_type": "code",
   "execution_count": 17,
   "id": "5e887bee",
   "metadata": {},
   "outputs": [
    {
     "name": "stdout",
     "output_type": "stream",
     "text": [
      "Epoch 1/10\n",
      "1726/1726 [==============================] - 13s 5ms/step - loss: 0.6122 - accuracy: 0.7015\n",
      "Epoch 2/10\n",
      "1726/1726 [==============================] - 7s 4ms/step - loss: 0.6102 - accuracy: 0.7015\n",
      "Epoch 3/10\n",
      "1726/1726 [==============================] - 7s 4ms/step - loss: 0.6101 - accuracy: 0.7015\n",
      "Epoch 4/10\n",
      "1726/1726 [==============================] - 8s 5ms/step - loss: 0.6100 - accuracy: 0.7015\n",
      "Epoch 5/10\n",
      "1726/1726 [==============================] - 8s 4ms/step - loss: 0.6099 - accuracy: 0.7015\n",
      "Epoch 6/10\n",
      "1726/1726 [==============================] - 7s 4ms/step - loss: 0.6099 - accuracy: 0.7015\n",
      "Epoch 7/10\n",
      "1726/1726 [==============================] - 7s 4ms/step - loss: 0.6099 - accuracy: 0.7015\n",
      "Epoch 8/10\n",
      "1726/1726 [==============================] - 7s 4ms/step - loss: 0.6099 - accuracy: 0.7015\n",
      "Epoch 9/10\n",
      "1726/1726 [==============================] - 7s 4ms/step - loss: 0.6098 - accuracy: 0.7015\n",
      "Epoch 10/10\n",
      "1726/1726 [==============================] - 7s 4ms/step - loss: 0.6098 - accuracy: 0.7015\n"
     ]
    },
    {
     "data": {
      "text/plain": [
       "<keras.callbacks.History at 0x249c0abbc90>"
      ]
     },
     "execution_count": 17,
     "metadata": {},
     "output_type": "execute_result"
    }
   ],
   "source": [
    "LSTM_model.fit(X_train_pca, y_train, epochs=10, batch_size=64)"
   ]
  }
 ],
 "metadata": {
  "kernelspec": {
   "display_name": "Python 3 (ipykernel)",
   "language": "python",
   "name": "python3"
  },
  "language_info": {
   "codemirror_mode": {
    "name": "ipython",
    "version": 3
   },
   "file_extension": ".py",
   "mimetype": "text/x-python",
   "name": "python",
   "nbconvert_exporter": "python",
   "pygments_lexer": "ipython3",
   "version": "3.11.2"
  }
 },
 "nbformat": 4,
 "nbformat_minor": 5
}
