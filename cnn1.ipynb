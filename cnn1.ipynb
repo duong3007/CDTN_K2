{
 "cells": [
  {
   "cell_type": "code",
   "execution_count": 3,
   "metadata": {},
   "outputs": [],
   "source": [
    "import pandas as pd\n",
    "import numpy as np\n",
    "\n",
    "import tensorflow as tf\n",
    "from tensorflow.keras.models import Sequential\n",
    "from tensorflow.keras.layers import Conv2D, MaxPooling2D, Flatten, Dense, Reshape\n",
    "\n",
    "from sklearn.model_selection import train_test_split\n",
    "from sklearn.preprocessing import MinMaxScaler\n"
   ]
  },
  {
   "cell_type": "code",
   "execution_count": 32,
   "metadata": {},
   "outputs": [],
   "source": [
    "file_path = \"Malware_Detection_data.csv\"\n",
    "df= pd.read_csv(file_path, delimiter='|')"
   ]
  },
  {
   "cell_type": "code",
   "execution_count": 33,
   "metadata": {},
   "outputs": [],
   "source": [
    "df.drop(columns=['Name'], inplace=True)\n",
    "df.drop(columns=['md5'], inplace=True)"
   ]
  },
  {
   "cell_type": "code",
   "execution_count": 34,
   "metadata": {},
   "outputs": [],
   "source": [
    "X = df.iloc[:, :-1].values  # Extract features (all columns except the last one)\n",
    "y = df.iloc[:, -1].values   # Extract labels (last column)"
   ]
  },
  {
   "cell_type": "code",
   "execution_count": 7,
   "metadata": {},
   "outputs": [],
   "source": [
    "X_train, X_test, y_train, y_test = train_test_split(X, y, test_size=0.2, random_state=42)"
   ]
  },
  {
   "cell_type": "code",
   "execution_count": 8,
   "metadata": {},
   "outputs": [],
   "source": [
    "scaler = MinMaxScaler()\n",
    "X_train = scaler.fit_transform(X_train)"
   ]
  },
  {
   "cell_type": "code",
   "execution_count": 9,
   "metadata": {},
   "outputs": [],
   "source": [
    "X_train = np.reshape(X_train, (X_train.shape[0], 54))"
   ]
  },
  {
   "cell_type": "code",
   "execution_count": 10,
   "metadata": {},
   "outputs": [],
   "source": [
    "X_train = X_train.reshape(X_train.shape[0], X_train.shape[1], 1, 1)  # Thay đổi kích thước để phù hợp với mô hình\n",
    "X_test = X_test.reshape(X_test.shape[0], X_test.shape[1], 1, 1) "
   ]
  },
  {
   "cell_type": "code",
   "execution_count": 11,
   "metadata": {},
   "outputs": [],
   "source": [
    "#Xây dựng mô hình \n",
    "model = Sequential()\n",
    "model.add(Conv2D(32, (3, 3), activation=\"relu\", padding='same'))\n",
    "model.add(MaxPooling2D((2, 2),padding=\"SAME\"))\n",
    "model.add(Conv2D(64, (3, 3), activation=\"relu\", padding='same'))\n",
    "model.add(MaxPooling2D((2, 2), padding='same'))\n",
    "model.add(Flatten())\n",
    "model.add(Dense(128, activation=\"relu\"))\n",
    "model.add(Dense(1, activation=\"sigmoid\"))"
   ]
  },
  {
   "cell_type": "code",
   "execution_count": 12,
   "metadata": {},
   "outputs": [],
   "source": [
    "model.compile(loss=\"binary_crossentropy\", optimizer=\"adam\", metrics=[\"accuracy\"])"
   ]
  },
  {
   "cell_type": "code",
   "execution_count": 13,
   "metadata": {},
   "outputs": [
    {
     "name": "stdout",
     "output_type": "stream",
     "text": [
      "Epoch 1/10\n",
      "1726/1726 [==============================] - 8s 4ms/step - loss: 0.0959 - accuracy: 0.9658\n",
      "Epoch 2/10\n",
      "1726/1726 [==============================] - 7s 4ms/step - loss: 0.0554 - accuracy: 0.9815\n",
      "Epoch 3/10\n",
      "1726/1726 [==============================] - 7s 4ms/step - loss: 0.0483 - accuracy: 0.9842\n",
      "Epoch 4/10\n",
      "1726/1726 [==============================] - 7s 4ms/step - loss: 0.0443 - accuracy: 0.9855\n",
      "Epoch 5/10\n",
      "1726/1726 [==============================] - 7s 4ms/step - loss: 0.0413 - accuracy: 0.9866\n",
      "Epoch 6/10\n",
      "1726/1726 [==============================] - 7s 4ms/step - loss: 0.0393 - accuracy: 0.9874\n",
      "Epoch 7/10\n",
      "1726/1726 [==============================] - 7s 4ms/step - loss: 0.0380 - accuracy: 0.9875\n",
      "Epoch 8/10\n",
      "1726/1726 [==============================] - 7s 4ms/step - loss: 0.0365 - accuracy: 0.9885\n",
      "Epoch 9/10\n",
      "1726/1726 [==============================] - 6s 4ms/step - loss: 0.0358 - accuracy: 0.9885\n",
      "Epoch 10/10\n",
      "1726/1726 [==============================] - 7s 4ms/step - loss: 0.0347 - accuracy: 0.9890\n"
     ]
    },
    {
     "data": {
      "text/plain": [
       "<keras.callbacks.History at 0x277f616e190>"
      ]
     },
     "execution_count": 13,
     "metadata": {},
     "output_type": "execute_result"
    }
   ],
   "source": [
    "model.fit(X_train, y_train, epochs=10,batch_size=64)"
   ]
  },
  {
   "cell_type": "code",
   "execution_count": 29,
   "metadata": {},
   "outputs": [],
   "source": [
    "from sklearn.decomposition import PCA"
   ]
  },
  {
   "cell_type": "code",
   "execution_count": 35,
   "metadata": {},
   "outputs": [],
   "source": [
    "pca = PCA(n_components=0.95)  # Giữ 95% variance\n",
    "X_pca=pca.fit_transform(X)"
   ]
  },
  {
   "cell_type": "code",
   "execution_count": 36,
   "metadata": {},
   "outputs": [],
   "source": [
    "X_train_pca, X_test_pca, y_train, y_test = train_test_split(X, y, test_size=0.2, random_state=42)"
   ]
  },
  {
   "cell_type": "code",
   "execution_count": 37,
   "metadata": {},
   "outputs": [],
   "source": [
    "scaler = MinMaxScaler()\n",
    "X_train_pca = scaler.fit_transform(X_train_pca)"
   ]
  },
  {
   "cell_type": "code",
   "execution_count": 38,
   "metadata": {},
   "outputs": [],
   "source": [
    "X_train_pca = X_train_pca.reshape(X_train_pca.shape[0], X_train_pca.shape[1], 1, 1)  # Thay đổi kích thước để phù hợp với mô hình\n",
    "X_test_pca = X_test_pca.reshape(X_test_pca.shape[0], X_test_pca.shape[1], 1, 1) "
   ]
  },
  {
   "cell_type": "code",
   "execution_count": 39,
   "metadata": {},
   "outputs": [
    {
     "name": "stdout",
     "output_type": "stream",
     "text": [
      "Epoch 1/10\n",
      "1726/1726 [==============================] - 7s 4ms/step - loss: 184.2856 - accuracy: 0.5927\n",
      "Epoch 2/10\n",
      "1726/1726 [==============================] - 8s 4ms/step - loss: 12.3615 - accuracy: 0.7179\n",
      "Epoch 3/10\n",
      "1726/1726 [==============================] - 8s 4ms/step - loss: 6.7868 - accuracy: 0.8133\n",
      "Epoch 4/10\n",
      "1726/1726 [==============================] - 8s 5ms/step - loss: 4.9989 - accuracy: 0.8466\n",
      "Epoch 5/10\n",
      "1726/1726 [==============================] - 9s 5ms/step - loss: 3.8741 - accuracy: 0.8684\n",
      "Epoch 6/10\n",
      "1726/1726 [==============================] - 8s 5ms/step - loss: 2.6027 - accuracy: 0.8910\n",
      "Epoch 7/10\n",
      "1726/1726 [==============================] - 8s 4ms/step - loss: 2.1952 - accuracy: 0.9020\n",
      "Epoch 8/10\n",
      "1726/1726 [==============================] - 8s 4ms/step - loss: 1.9878 - accuracy: 0.9098\n",
      "Epoch 9/10\n",
      "1726/1726 [==============================] - 9s 5ms/step - loss: 1.7770 - accuracy: 0.9167\n",
      "Epoch 10/10\n",
      "1726/1726 [==============================] - 8s 4ms/step - loss: 1.5950 - accuracy: 0.9230\n"
     ]
    },
    {
     "data": {
      "text/plain": [
       "<keras.callbacks.History at 0x2778176ead0>"
      ]
     },
     "execution_count": 39,
     "metadata": {},
     "output_type": "execute_result"
    }
   ],
   "source": [
    "model.fit(X_train_pca, y_train, epochs=10,batch_size=64)"
   ]
  }
 ],
 "metadata": {
  "kernelspec": {
   "display_name": "Python 3",
   "language": "python",
   "name": "python3"
  },
  "language_info": {
   "codemirror_mode": {
    "name": "ipython",
    "version": 3
   },
   "file_extension": ".py",
   "mimetype": "text/x-python",
   "name": "python",
   "nbconvert_exporter": "python",
   "pygments_lexer": "ipython3",
   "version": "3.11.2"
  }
 },
 "nbformat": 4,
 "nbformat_minor": 2
}
